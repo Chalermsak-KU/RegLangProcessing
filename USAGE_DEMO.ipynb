{
 "cells": [
  {
   "cell_type": "markdown",
   "metadata": {},
   "source": [
    "# Usage Demonstration\n",
    "*Written by Chalermsak Chatdokmaiprai, CPE Dept., Kasetsart University, Thailand. First release April 27, 2020.*\n",
    "\n",
    "To use the `reglang` module, import it."
   ]
  },
  {
   "cell_type": "code",
   "execution_count": 6,
   "metadata": {},
   "outputs": [],
   "source": [
    "from reglang import dfa, nfa, regx"
   ]
  },
  {
   "cell_type": "markdown",
   "metadata": {},
   "source": [
    "## 1. Creating a DFA\n",
    "Now we want to create a new `dfa` object that represents a DFA (deterministic finite automaton) that accepts binary strings that has an odd number of 1's. We first define its transition function `delta1`, which is a Python `dict` whose keys are tuples `(state, symbol)` and the mapped values are next states."
   ]
  },
  {
   "cell_type": "code",
   "execution_count": 7,
   "metadata": {},
   "outputs": [],
   "source": [
    "delta1 = {\n",
    "    (1,'0') : 1,\n",
    "    (1,'1') : 2,\n",
    "    (2,'0') : 2,\n",
    "    (2,'1') : 1\n",
    "}"
   ]
  },
  {
   "cell_type": "markdown",
   "metadata": {},
   "source": [
    "The above transition function shows that our DFA has only two states, namely 1 and 2. Next, we'll use the constructor function `dfa()` to create a `dfa` object `dfa1` with the above `delta1` dict as its transition function and 1 being the start state and {2} being the set of its final states. The transition function, the start state, and the set of final states are passed to the keyword parameters `delta`, `start`, and `finals`, respectively."
   ]
  },
  {
   "cell_type": "code",
   "execution_count": 8,
   "metadata": {},
   "outputs": [],
   "source": [
    "dfa1 = dfa(delta=delta1, start=1, finals={2})"
   ]
  },
  {
   "cell_type": "markdown",
   "metadata": {},
   "source": [
    "We can print the `dfa` object just created to see all its components. Notice that the DFA's input alphabet `sigma` and the set of states `states` are automatically derived from the given transition function."
   ]
  },
  {
   "cell_type": "code",
   "execution_count": 9,
   "metadata": {},
   "outputs": [
    {
     "name": "stdout",
     "output_type": "stream",
     "text": [
      "states = {1, 2}\n",
      "sigma = {'0', '1'}\n",
      "start = 1\n",
      "finals = {2}\n",
      "delta = {\n",
      "    (1, '0') : 1\n",
      "    (1, '1') : 2\n",
      "    (2, '0') : 2\n",
      "    (2, '1') : 1\n",
      "}\n"
     ]
    }
   ],
   "source": [
    "print(dfa1)"
   ]
  },
  {
   "cell_type": "markdown",
   "metadata": {},
   "source": [
    "We can use `dfa1` to test whether a string has an odd number of 1's using the `accept()` method."
   ]
  },
  {
   "cell_type": "code",
   "execution_count": 10,
   "metadata": {},
   "outputs": [
    {
     "data": {
      "text/plain": [
       "False"
      ]
     },
     "execution_count": 10,
     "metadata": {},
     "output_type": "execute_result"
    }
   ],
   "source": [
    "dfa1.accept('011011')"
   ]
  },
  {
   "cell_type": "code",
   "execution_count": 11,
   "metadata": {},
   "outputs": [
    {
     "data": {
      "text/plain": [
       "True"
      ]
     },
     "execution_count": 11,
     "metadata": {},
     "output_type": "execute_result"
    }
   ],
   "source": [
    "dfa1.accept('1000')"
   ]
  },
  {
   "cell_type": "markdown",
   "metadata": {},
   "source": [
    "When creating a new `dfa` object, the given delta function need not be defined for every symbol in the alphabet. A trap state `'_H_'` will automatically be created to make it a total function. The following DFA `dfa2` accepts the language (01 U 010)\\*. The given transition function `delta2` specifies only essential transitions, omitting all transitions to the trap state. "
   ]
  },
  {
   "cell_type": "code",
   "execution_count": 12,
   "metadata": {},
   "outputs": [],
   "source": [
    "delta2 = {   # a DFA that accepts (01 U 010)*\n",
    "    ('s', '0') : '0',\n",
    "    ('0', '1') : '01',\n",
    "    ('01', '0'): '010',\n",
    "    ('010', '0'): '0',\n",
    "    ('010', '1'): '01'\n",
    "}\n",
    "dfa2 = dfa(delta=delta2, start='s', finals={'s', '01', '010'}) "
   ]
  },
  {
   "cell_type": "markdown",
   "metadata": {},
   "source": [
    "Printing the DFA `dfa2` shows the completed transition function with an inserted trap state `'_H_'`."
   ]
  },
  {
   "cell_type": "code",
   "execution_count": 13,
   "metadata": {},
   "outputs": [
    {
     "name": "stdout",
     "output_type": "stream",
     "text": [
      "states = {'0', '01', '010', '_H_', 's'}\n",
      "sigma = {'0', '1'}\n",
      "start = 's'\n",
      "finals = {'01', '010', 's'}\n",
      "delta = {\n",
      "    ('0', '0') : '_H_'\n",
      "    ('0', '1') : '01'\n",
      "    ('01', '0') : '010'\n",
      "    ('01', '1') : '_H_'\n",
      "    ('010', '0') : '0'\n",
      "    ('010', '1') : '01'\n",
      "    ('_H_', '0') : '_H_'\n",
      "    ('_H_', '1') : '_H_'\n",
      "    ('s', '0') : '0'\n",
      "    ('s', '1') : '_H_'\n",
      "}\n"
     ]
    }
   ],
   "source": [
    "print(dfa2)"
   ]
  },
  {
   "cell_type": "markdown",
   "metadata": {},
   "source": [
    "We test various input strings on `dfa2` below. Notice that the empty string `''` can be an input as well."
   ]
  },
  {
   "cell_type": "code",
   "execution_count": 14,
   "metadata": {},
   "outputs": [
    {
     "name": "stdout",
     "output_type": "stream",
     "text": [
      "'0101001' accepted\n",
      "'010010010' accepted\n",
      "'01' accepted\n",
      "'010' accepted\n",
      "'' accepted\n",
      "'1010' rejected\n",
      "'010001' rejected\n",
      "'01101' rejected\n",
      "'010100100101' accepted\n"
     ]
    }
   ],
   "source": [
    "inputlist = ['0101001','010010010','01','010','','1010','010001','01101','010100100101']\n",
    "for inpstr in inputlist:\n",
    "    if dfa2.accept(inpstr):\n",
    "        print(\"'{0}' accepted\".format(inpstr))\n",
    "    else:\n",
    "        print(\"'{0}' rejected\".format(inpstr))"
   ]
  },
  {
   "cell_type": "markdown",
   "metadata": {},
   "source": [
    "## 2. Creating an NFA\n",
    "An `nfa` object that represents an NFA (nondeterministic finite automaton) can be created in a similar way as the DFA, except that the transition function of an `nfa` maps each tuple `(state, symbol)` to a set of states and the `symbol` in each tuple may be an empty string `''`. The following code creates an `nfa` object that accepts the language $\\{w \\in {a,b,c}^*: w\\ does\\ not\\ have\\ some\\ symbol\\ in\\ \\{a, b, c\\}\\}$. The constructor function `nfa` is used to create an `nfa` object."
   ]
  },
  {
   "cell_type": "code",
   "execution_count": 15,
   "metadata": {},
   "outputs": [],
   "source": [
    "delta3 = {\n",
    "    (0, '')  : {1, 2, 3},\n",
    "    (1, 'a') : {1},\n",
    "    (1, 'b') : {1},\n",
    "    (2, 'a') : {2},\n",
    "    (2, 'c') : {2},\n",
    "    (3, 'b') : {3},\n",
    "    (3, 'c') : {3}\n",
    "}\n",
    "nfa3 = nfa(delta=delta3, start=0, finals={1, 2, 3})"
   ]
  },
  {
   "cell_type": "code",
   "execution_count": 16,
   "metadata": {},
   "outputs": [
    {
     "name": "stdout",
     "output_type": "stream",
     "text": [
      "states = {0, 1, 2, 3}\n",
      "sigma = {'a', 'b', 'c'}\n",
      "start = 0\n",
      "finals = {1, 2, 3}\n",
      "delta = {\n",
      "    (0, '') : {1, 2, 3}\n",
      "    (1, 'a') : {1}\n",
      "    (1, 'b') : {1}\n",
      "    (2, 'a') : {2}\n",
      "    (2, 'c') : {2}\n",
      "    (3, 'b') : {3}\n",
      "    (3, 'c') : {3}\n",
      "}\n"
     ]
    }
   ],
   "source": [
    "print(nfa3)"
   ]
  },
  {
   "cell_type": "code",
   "execution_count": 17,
   "metadata": {},
   "outputs": [
    {
     "data": {
      "text/plain": [
       "False"
      ]
     },
     "execution_count": 17,
     "metadata": {},
     "output_type": "execute_result"
    }
   ],
   "source": [
    "nfa3.accept('bccba')"
   ]
  },
  {
   "cell_type": "code",
   "execution_count": 18,
   "metadata": {},
   "outputs": [
    {
     "data": {
      "text/plain": [
       "True"
      ]
     },
     "execution_count": 18,
     "metadata": {},
     "output_type": "execute_result"
    }
   ],
   "source": [
    "nfa3.accept('cbbc')"
   ]
  },
  {
   "cell_type": "code",
   "execution_count": 19,
   "metadata": {},
   "outputs": [
    {
     "data": {
      "text/plain": [
       "True"
      ]
     },
     "execution_count": 19,
     "metadata": {},
     "output_type": "execute_result"
    }
   ],
   "source": [
    "nfa3.accept('babbba')"
   ]
  },
  {
   "cell_type": "code",
   "execution_count": 20,
   "metadata": {},
   "outputs": [
    {
     "data": {
      "text/plain": [
       "True"
      ]
     },
     "execution_count": 20,
     "metadata": {},
     "output_type": "execute_result"
    }
   ],
   "source": [
    "nfa3.accept('ac')"
   ]
  },
  {
   "cell_type": "markdown",
   "metadata": {},
   "source": [
    "## 3. Conversions Between DFAs and NFAs\n",
    "### 3.1 From NFA to DFA\n",
    "The `nfa` class has a method `to_dfa()` to produce an equivalent `dfa` object accepting the same language. Let's use it to produce a new `dfa` that is equivalent to the above `nfa3`."
   ]
  },
  {
   "cell_type": "code",
   "execution_count": 21,
   "metadata": {},
   "outputs": [],
   "source": [
    "dfa4 = nfa3.to_dfa()"
   ]
  },
  {
   "cell_type": "code",
   "execution_count": 22,
   "metadata": {},
   "outputs": [
    {
     "name": "stdout",
     "output_type": "stream",
     "text": [
      "states = {(), (0, 1, 2, 3), (1, 2), (1, 3), (1,), (2, 3), (2,), (3,)}\n",
      "sigma = {'a', 'b', 'c'}\n",
      "start = (0, 1, 2, 3)\n",
      "finals = {(0, 1, 2, 3), (1, 2), (1, 3), (1,), (2, 3), (2,), (3,)}\n",
      "delta = {\n",
      "    ((), 'a') : ()\n",
      "    ((), 'b') : ()\n",
      "    ((), 'c') : ()\n",
      "    ((0, 1, 2, 3), 'a') : (1, 2)\n",
      "    ((0, 1, 2, 3), 'b') : (1, 3)\n",
      "    ((0, 1, 2, 3), 'c') : (2, 3)\n",
      "    ((1, 2), 'a') : (1, 2)\n",
      "    ((1, 2), 'b') : (1,)\n",
      "    ((1, 2), 'c') : (2,)\n",
      "    ((1, 3), 'a') : (1,)\n",
      "    ((1, 3), 'b') : (1, 3)\n",
      "    ((1, 3), 'c') : (3,)\n",
      "    ((1,), 'a') : (1,)\n",
      "    ((1,), 'b') : (1,)\n",
      "    ((1,), 'c') : ()\n",
      "    ((2, 3), 'a') : (2,)\n",
      "    ((2, 3), 'b') : (3,)\n",
      "    ((2, 3), 'c') : (2, 3)\n",
      "    ((2,), 'a') : (2,)\n",
      "    ((2,), 'b') : ()\n",
      "    ((2,), 'c') : (2,)\n",
      "    ((3,), 'a') : ()\n",
      "    ((3,), 'b') : (3,)\n",
      "    ((3,), 'c') : (3,)\n",
      "}\n"
     ]
    }
   ],
   "source": [
    "print(dfa4)"
   ]
  },
  {
   "cell_type": "markdown",
   "metadata": {},
   "source": [
    "Notice that each state of the produced `dfa4` is a set of states in `nfa3` in the form of a tuple. This is a result of the conversion algorithm being used. The following expressions test the equivalence."
   ]
  },
  {
   "cell_type": "code",
   "execution_count": 23,
   "metadata": {},
   "outputs": [
    {
     "name": "stdout",
     "output_type": "stream",
     "text": [
      "False\n",
      "True\n",
      "True\n",
      "True\n"
     ]
    }
   ],
   "source": [
    "print(dfa4.accept('bccba'))\n",
    "print(dfa4.accept('cbbc'))\n",
    "print(dfa4.accept('babbba'))\n",
    "print(dfa4.accept('ac'))"
   ]
  },
  {
   "cell_type": "markdown",
   "metadata": {},
   "source": [
    "### 3.2 From DFA to NFA\n",
    "Reversely, the `dfa` class has a method `to_nfa()` to produce an equivalent `nfa` though it's a very trivial task. As an example, let's go back to our DFA `dfa1`and convert it into an equivalent NFA `nfa5`."
   ]
  },
  {
   "cell_type": "code",
   "execution_count": 24,
   "metadata": {},
   "outputs": [
    {
     "name": "stdout",
     "output_type": "stream",
     "text": [
      "states = {1, 2}\n",
      "sigma = {'0', '1'}\n",
      "start = 1\n",
      "finals = {2}\n",
      "delta = {\n",
      "    (1, '0') : 1\n",
      "    (1, '1') : 2\n",
      "    (2, '0') : 2\n",
      "    (2, '1') : 1\n",
      "}\n"
     ]
    }
   ],
   "source": [
    "print(dfa1)"
   ]
  },
  {
   "cell_type": "code",
   "execution_count": 25,
   "metadata": {},
   "outputs": [],
   "source": [
    "nfa5 = dfa1.to_nfa()"
   ]
  },
  {
   "cell_type": "markdown",
   "metadata": {},
   "source": [
    "You can see how trivial the conversion is. The transtion function of `nfa5` is derived from that of `dfa1` by simply making each next state a set. "
   ]
  },
  {
   "cell_type": "code",
   "execution_count": 26,
   "metadata": {},
   "outputs": [
    {
     "name": "stdout",
     "output_type": "stream",
     "text": [
      "states = {1, 2}\n",
      "sigma = {'0', '1'}\n",
      "start = 1\n",
      "finals = {2}\n",
      "delta = {\n",
      "    (1, '0') : {1}\n",
      "    (1, '1') : {2}\n",
      "    (2, '0') : {2}\n",
      "    (2, '1') : {1}\n",
      "}\n"
     ]
    }
   ],
   "source": [
    "print(nfa5)"
   ]
  },
  {
   "cell_type": "markdown",
   "metadata": {},
   "source": [
    "## 4. Operations on DFAs"
   ]
  },
  {
   "cell_type": "markdown",
   "metadata": {},
   "source": [
    "### 4.1 Simplifying State Names\n",
    "The DFA `dfa4` converted from an NFA has cumbersome state names. We can created another equivalent DFA with simple-numbered states by using the method `renumbered()`. It received an integer argument that is to become the starting number of state names. The following call sets the starting number of state names to 1."
   ]
  },
  {
   "cell_type": "code",
   "execution_count": 27,
   "metadata": {},
   "outputs": [],
   "source": [
    "dfa6 = dfa4.renumbered(1)"
   ]
  },
  {
   "cell_type": "markdown",
   "metadata": {},
   "source": [
    "Note that the name of the start state of the produced DFA may or may not be the same as the given starting number. For example, the start state of the produced `dfa6` is not 1, but 2."
   ]
  },
  {
   "cell_type": "code",
   "execution_count": 28,
   "metadata": {},
   "outputs": [
    {
     "name": "stdout",
     "output_type": "stream",
     "text": [
      "states = {1, 2, 3, 4, 5, 6, 7, 8}\n",
      "sigma = {'a', 'b', 'c'}\n",
      "start = 8\n",
      "finals = {1, 2, 3, 4, 5, 7, 8}\n",
      "delta = {\n",
      "    (1, 'a') : 1\n",
      "    (1, 'b') : 3\n",
      "    (1, 'c') : 4\n",
      "    (2, 'a') : 3\n",
      "    (2, 'b') : 2\n",
      "    (2, 'c') : 5\n",
      "    (3, 'a') : 3\n",
      "    (3, 'b') : 3\n",
      "    (3, 'c') : 6\n",
      "    (4, 'a') : 4\n",
      "    (4, 'b') : 6\n",
      "    (4, 'c') : 4\n",
      "    (5, 'a') : 6\n",
      "    (5, 'b') : 5\n",
      "    (5, 'c') : 5\n",
      "    (6, 'a') : 6\n",
      "    (6, 'b') : 6\n",
      "    (6, 'c') : 6\n",
      "    (7, 'a') : 4\n",
      "    (7, 'b') : 5\n",
      "    (7, 'c') : 7\n",
      "    (8, 'a') : 1\n",
      "    (8, 'b') : 2\n",
      "    (8, 'c') : 7\n",
      "}\n"
     ]
    }
   ],
   "source": [
    "print(dfa6)"
   ]
  },
  {
   "cell_type": "markdown",
   "metadata": {},
   "source": [
    "Another way to simplify state names of a DFA is to renumber them in a standard way using the method `standard_numbered()`. The state will be 1, 2, 3, ... and so on, where 1 is the DFA's start state. The sorted order of the input alphabet is used to determine the numbering of states."
   ]
  },
  {
   "cell_type": "code",
   "execution_count": 29,
   "metadata": {},
   "outputs": [
    {
     "name": "stdout",
     "output_type": "stream",
     "text": [
      "states = {'0', '01', '010', '_H_', 's'}\n",
      "sigma = {'0', '1'}\n",
      "start = 's'\n",
      "finals = {'01', '010', 's'}\n",
      "delta = {\n",
      "    ('0', '0') : '_H_'\n",
      "    ('0', '1') : '01'\n",
      "    ('01', '0') : '010'\n",
      "    ('01', '1') : '_H_'\n",
      "    ('010', '0') : '0'\n",
      "    ('010', '1') : '01'\n",
      "    ('_H_', '0') : '_H_'\n",
      "    ('_H_', '1') : '_H_'\n",
      "    ('s', '0') : '0'\n",
      "    ('s', '1') : '_H_'\n",
      "}\n"
     ]
    }
   ],
   "source": [
    "print(dfa2)"
   ]
  },
  {
   "cell_type": "code",
   "execution_count": 30,
   "metadata": {},
   "outputs": [],
   "source": [
    "dfa7 = dfa2.standard_numbered()"
   ]
  },
  {
   "cell_type": "code",
   "execution_count": 31,
   "metadata": {},
   "outputs": [
    {
     "name": "stdout",
     "output_type": "stream",
     "text": [
      "states = {1, 2, 3, 4, 5}\n",
      "sigma = {'0', '1'}\n",
      "start = 1\n",
      "finals = {1, 4, 5}\n",
      "delta = {\n",
      "    (1, '0') : 2\n",
      "    (1, '1') : 3\n",
      "    (2, '0') : 3\n",
      "    (2, '1') : 4\n",
      "    (3, '0') : 3\n",
      "    (3, '1') : 3\n",
      "    (4, '0') : 5\n",
      "    (4, '1') : 3\n",
      "    (5, '0') : 2\n",
      "    (5, '1') : 4\n",
      "}\n"
     ]
    }
   ],
   "source": [
    "print(dfa7)"
   ]
  },
  {
   "cell_type": "markdown",
   "metadata": {},
   "source": [
    "Note that both `renumbered()` and `standard_numbered()` return a new `dfa` object. The original DFA stays intact. Also, as a side effect, the `dfa` returned from `standard_numbered()` will have all nonreachable states, if existing in the original DFA, eliminated. In that case the number of states of the returned DFA would be less than that of the original one."
   ]
  },
  {
   "cell_type": "markdown",
   "metadata": {},
   "source": [
    "### 4.2 Removal of Nonreachable States\n",
    "A nonreachable state of a DFA cannot be reached from the start state, thus is useless in the operation of the DFA and can be removed. The following DFA `dfa8` has two nonreachable states. Can you guess which?"
   ]
  },
  {
   "cell_type": "code",
   "execution_count": 32,
   "metadata": {},
   "outputs": [],
   "source": [
    "delta8 = {\n",
    "    (1,'0') : 1,\n",
    "    (1,'1') : 4,\n",
    "    (2,'0') : 1,\n",
    "    (2,'1') : 2,\n",
    "    (3,'0') : 2,\n",
    "    (3,'1') : 4,\n",
    "    (4,'0') : 4,\n",
    "    (4,'1') : 1\n",
    "}\n",
    "dfa8 = dfa(delta=delta8, start=1, finals={2,3,4})"
   ]
  },
  {
   "cell_type": "code",
   "execution_count": 33,
   "metadata": {},
   "outputs": [
    {
     "name": "stdout",
     "output_type": "stream",
     "text": [
      "states = {1, 2, 3, 4}\n",
      "sigma = {'0', '1'}\n",
      "start = 1\n",
      "finals = {2, 3, 4}\n",
      "delta = {\n",
      "    (1, '0') : 1\n",
      "    (1, '1') : 4\n",
      "    (2, '0') : 1\n",
      "    (2, '1') : 2\n",
      "    (3, '0') : 2\n",
      "    (3, '1') : 4\n",
      "    (4, '0') : 4\n",
      "    (4, '1') : 1\n",
      "}\n"
     ]
    }
   ],
   "source": [
    "print(dfa8)"
   ]
  },
  {
   "cell_type": "markdown",
   "metadata": {},
   "source": [
    "The method `remove_nonreachable()` returns a new equivalent DFA that is free of nonreachable states."
   ]
  },
  {
   "cell_type": "code",
   "execution_count": 34,
   "metadata": {},
   "outputs": [],
   "source": [
    "dfa9 = dfa8.remove_nonreachable()"
   ]
  },
  {
   "cell_type": "code",
   "execution_count": 35,
   "metadata": {},
   "outputs": [
    {
     "name": "stdout",
     "output_type": "stream",
     "text": [
      "states = {1, 4}\n",
      "sigma = {'0', '1'}\n",
      "start = 1\n",
      "finals = {4}\n",
      "delta = {\n",
      "    (1, '0') : 1\n",
      "    (1, '1') : 4\n",
      "    (4, '0') : 4\n",
      "    (4, '1') : 1\n",
      "}\n"
     ]
    }
   ],
   "source": [
    "print(dfa9)"
   ]
  },
  {
   "cell_type": "markdown",
   "metadata": {},
   "source": [
    "So we know now that the state 2 and 3 of `dfa8` are nonreachable, thus absent from the returned `dfa9`."
   ]
  },
  {
   "cell_type": "markdown",
   "metadata": {},
   "source": [
    "### 4.3 Minimizing DFAs\n",
    "The method `minimized()` produces the minimized DFA equivalent to the given DFA. All nonreachable states, if exist, will also be removed."
   ]
  },
  {
   "cell_type": "code",
   "execution_count": 36,
   "metadata": {},
   "outputs": [],
   "source": [
    "delta10 = {\n",
    "    (1, 'a') : 2,\n",
    "    (1, 'b') : 4,\n",
    "    (2, 'a') : 5,\n",
    "    (2, 'b') : 3,\n",
    "    (3, 'a') : 2,\n",
    "    (3, 'b') : 6,\n",
    "    (4, 'a') : 1,\n",
    "    (4, 'b') : 5,\n",
    "    (5, 'a') : 5,\n",
    "    (5, 'b') : 5,\n",
    "    (6, 'a') : 3,\n",
    "    (6, 'b') : 5,\n",
    "    (7, 'a') : 6,\n",
    "    (7, 'b') : 8,\n",
    "    (8, 'a') : 7,\n",
    "    (8, 'b') : 3\n",
    "}\n",
    "dfa10 = dfa(delta=delta10, start=1, finals={1, 3, 7})"
   ]
  },
  {
   "cell_type": "code",
   "execution_count": 37,
   "metadata": {},
   "outputs": [
    {
     "name": "stdout",
     "output_type": "stream",
     "text": [
      "states = {1, 2, 3, 4, 5, 6, 7, 8}\n",
      "sigma = {'a', 'b'}\n",
      "start = 1\n",
      "finals = {1, 3, 7}\n",
      "delta = {\n",
      "    (1, 'a') : 2\n",
      "    (1, 'b') : 4\n",
      "    (2, 'a') : 5\n",
      "    (2, 'b') : 3\n",
      "    (3, 'a') : 2\n",
      "    (3, 'b') : 6\n",
      "    (4, 'a') : 1\n",
      "    (4, 'b') : 5\n",
      "    (5, 'a') : 5\n",
      "    (5, 'b') : 5\n",
      "    (6, 'a') : 3\n",
      "    (6, 'b') : 5\n",
      "    (7, 'a') : 6\n",
      "    (7, 'b') : 8\n",
      "    (8, 'a') : 7\n",
      "    (8, 'b') : 3\n",
      "}\n"
     ]
    }
   ],
   "source": [
    "print(dfa10)"
   ]
  },
  {
   "cell_type": "code",
   "execution_count": 38,
   "metadata": {},
   "outputs": [],
   "source": [
    "dfa11 = dfa10.minimized()"
   ]
  },
  {
   "cell_type": "code",
   "execution_count": 39,
   "metadata": {},
   "outputs": [
    {
     "name": "stdout",
     "output_type": "stream",
     "text": [
      "states = {(1, 3), (2,), (4, 6), (5,)}\n",
      "sigma = {'a', 'b'}\n",
      "start = (1, 3)\n",
      "finals = {(1, 3)}\n",
      "delta = {\n",
      "    ((1, 3), 'a') : (2,)\n",
      "    ((1, 3), 'b') : (4, 6)\n",
      "    ((2,), 'a') : (5,)\n",
      "    ((2,), 'b') : (1, 3)\n",
      "    ((4, 6), 'a') : (1, 3)\n",
      "    ((4, 6), 'b') : (5,)\n",
      "    ((5,), 'a') : (5,)\n",
      "    ((5,), 'b') : (5,)\n",
      "}\n"
     ]
    }
   ],
   "source": [
    "print(dfa11)"
   ]
  },
  {
   "cell_type": "markdown",
   "metadata": {},
   "source": [
    "Due to the minimization algorithm being used, the states of the returned minimized DFA are shown as a tuple of states in the original DFA. If you want simpler state names, you may use either `renumbered()` or `standard_numbered()` to beautify the resulting DFA."
   ]
  },
  {
   "cell_type": "code",
   "execution_count": 40,
   "metadata": {},
   "outputs": [],
   "source": [
    "dfa12 = dfa10.minimized().renumbered(0)"
   ]
  },
  {
   "cell_type": "code",
   "execution_count": 41,
   "metadata": {},
   "outputs": [
    {
     "name": "stdout",
     "output_type": "stream",
     "text": [
      "states = {0, 1, 2, 3}\n",
      "sigma = {'a', 'b'}\n",
      "start = 2\n",
      "finals = {2}\n",
      "delta = {\n",
      "    (0, 'a') : 1\n",
      "    (0, 'b') : 2\n",
      "    (1, 'a') : 1\n",
      "    (1, 'b') : 1\n",
      "    (2, 'a') : 0\n",
      "    (2, 'b') : 3\n",
      "    (3, 'a') : 2\n",
      "    (3, 'b') : 1\n",
      "}\n"
     ]
    }
   ],
   "source": [
    "print(dfa12)"
   ]
  },
  {
   "cell_type": "code",
   "execution_count": 42,
   "metadata": {},
   "outputs": [],
   "source": [
    "dfa13 = dfa10.minimized().standard_numbered()"
   ]
  },
  {
   "cell_type": "code",
   "execution_count": 43,
   "metadata": {},
   "outputs": [
    {
     "name": "stdout",
     "output_type": "stream",
     "text": [
      "states = {1, 2, 3, 4}\n",
      "sigma = {'a', 'b'}\n",
      "start = 1\n",
      "finals = {1}\n",
      "delta = {\n",
      "    (1, 'a') : 2\n",
      "    (1, 'b') : 3\n",
      "    (2, 'a') : 4\n",
      "    (2, 'b') : 1\n",
      "    (3, 'a') : 1\n",
      "    (3, 'b') : 4\n",
      "    (4, 'a') : 4\n",
      "    (4, 'b') : 4\n",
      "}\n"
     ]
    }
   ],
   "source": [
    "print(dfa13)"
   ]
  },
  {
   "cell_type": "markdown",
   "metadata": {},
   "source": [
    "You can see more detailed steps in the minimization algorithm by setting the `verbose` parameter to `True`."
   ]
  },
  {
   "cell_type": "code",
   "execution_count": 44,
   "metadata": {},
   "outputs": [
    {
     "name": "stdout",
     "output_type": "stream",
     "text": [
      "First partitioning:\n",
      " (1, 3) (2, 4, 5, 6)\n",
      "Next partitioning:\n",
      " (1, 3) (2,) (4, 6) (5,)\n",
      "Final partitioning:\n",
      " (1, 3) (2,) (4, 6) (5,)\n"
     ]
    }
   ],
   "source": [
    "dfa14 = dfa10.minimized(verbose=True)"
   ]
  },
  {
   "cell_type": "code",
   "execution_count": 45,
   "metadata": {},
   "outputs": [
    {
     "name": "stdout",
     "output_type": "stream",
     "text": [
      "states = {(1, 3), (2,), (4, 6), (5,)}\n",
      "sigma = {'a', 'b'}\n",
      "start = (1, 3)\n",
      "finals = {(1, 3)}\n",
      "delta = {\n",
      "    ((1, 3), 'a') : (2,)\n",
      "    ((1, 3), 'b') : (4, 6)\n",
      "    ((2,), 'a') : (5,)\n",
      "    ((2,), 'b') : (1, 3)\n",
      "    ((4, 6), 'a') : (1, 3)\n",
      "    ((4, 6), 'b') : (5,)\n",
      "    ((5,), 'a') : (5,)\n",
      "    ((5,), 'b') : (5,)\n",
      "}\n"
     ]
    }
   ],
   "source": [
    "print(dfa14)"
   ]
  },
  {
   "cell_type": "markdown",
   "metadata": {},
   "source": [
    "### 4.4 Complementation of DFAs\n",
    "Given a DFA that accepts a language L, the method `complement()` returns a new DFA that accept the complementary language $\\{w\\ :\\ w\\ \\notin\\ L\\}$. For example, the DFA `dfa15` created below accepts all strings over the alphabet {a, b} that ends with `'ba'`."
   ]
  },
  {
   "cell_type": "code",
   "execution_count": 46,
   "metadata": {},
   "outputs": [],
   "source": [
    "delta15 = {\n",
    "    (1, 'a') : 1,\n",
    "    (1, 'b') : 2,\n",
    "    (2, 'a') : 3,\n",
    "    (2, 'b') : 2,\n",
    "    (3, 'a') : 1,\n",
    "    (3, 'b') : 2\n",
    "}\n",
    "dfa15 = dfa(delta=delta15, start=1, finals={3})"
   ]
  },
  {
   "cell_type": "code",
   "execution_count": 47,
   "metadata": {},
   "outputs": [
    {
     "name": "stdout",
     "output_type": "stream",
     "text": [
      "b False\n",
      "ba True\n",
      "aabba True\n",
      "ab False\n",
      "baab False\n"
     ]
    }
   ],
   "source": [
    "for s in ['b', 'ba', 'aabba', 'ab', 'baab']:\n",
    "    print(s, dfa15.accept(s))"
   ]
  },
  {
   "cell_type": "markdown",
   "metadata": {},
   "source": [
    "We can create a new DFA `dfa16` that accepts all strings over {a, b} that does not end with `'ba'`, ie. the complementary language of the language that `dfa15` accepts, by calling the `complement()` method on `dfa15`."
   ]
  },
  {
   "cell_type": "code",
   "execution_count": 48,
   "metadata": {},
   "outputs": [],
   "source": [
    "dfa16 = dfa15.complement()"
   ]
  },
  {
   "cell_type": "code",
   "execution_count": 49,
   "metadata": {},
   "outputs": [
    {
     "name": "stdout",
     "output_type": "stream",
     "text": [
      "states = {1, 2, 3}\n",
      "sigma = {'a', 'b'}\n",
      "start = 1\n",
      "finals = {1, 2}\n",
      "delta = {\n",
      "    (1, 'a') : 1\n",
      "    (1, 'b') : 2\n",
      "    (2, 'a') : 3\n",
      "    (2, 'b') : 2\n",
      "    (3, 'a') : 1\n",
      "    (3, 'b') : 2\n",
      "}\n"
     ]
    }
   ],
   "source": [
    "print(dfa16)"
   ]
  },
  {
   "cell_type": "markdown",
   "metadata": {},
   "source": [
    "Notice that the produced `dfa16` differs from `dfa15` only in that all the final states of `dfa15` are nonfinal states of `dfa16` and vice versa so that strings accepted by `dfa15` is rejected by `dfa16`, and vice versa."
   ]
  },
  {
   "cell_type": "code",
   "execution_count": 50,
   "metadata": {},
   "outputs": [
    {
     "name": "stdout",
     "output_type": "stream",
     "text": [
      "b True\n",
      "ba False\n",
      "aabba False\n",
      "ab True\n",
      "baab True\n"
     ]
    }
   ],
   "source": [
    "for s in ['b', 'ba', 'aabba', 'ab', 'baab']:\n",
    "    print(s, dfa16.accept(s))"
   ]
  },
  {
   "cell_type": "markdown",
   "metadata": {},
   "source": [
    "## 5. Test For Equivalence of Two FAs"
   ]
  },
  {
   "cell_type": "markdown",
   "metadata": {},
   "source": [
    "The method `equiv()` checks whether two FAs are equivalent, in the sense that they accept the same language. It returns True if they are equivalent, or False if they are not. The method applied to the first FA, which may be a DFA or an NFA, while the second FA (also either a DFA or an NFA) is passed as its argument.\n",
    "\n",
    "### 5.1 Equivalence of Two DFAs\n",
    "For example, the above `dfa1` accepts binary strings that have an odd number of 1's, while `dfa2` accepts binary strings in the language (01 U 010)\\*. Therefore they are not equivalent."
   ]
  },
  {
   "cell_type": "code",
   "execution_count": 51,
   "metadata": {},
   "outputs": [
    {
     "data": {
      "text/plain": [
       "False"
      ]
     },
     "execution_count": 51,
     "metadata": {},
     "output_type": "execute_result"
    }
   ],
   "source": [
    "dfa1.equiv(dfa2)"
   ]
  },
  {
   "cell_type": "code",
   "execution_count": 52,
   "metadata": {},
   "outputs": [
    {
     "data": {
      "text/plain": [
       "False"
      ]
     },
     "execution_count": 52,
     "metadata": {},
     "output_type": "execute_result"
    }
   ],
   "source": [
    "dfa2.equiv(dfa1)"
   ]
  },
  {
   "cell_type": "markdown",
   "metadata": {},
   "source": [
    "Since the equivalency is a symmetric relation, it's not surprising that the above two expressions yield the same result.\n",
    "\n",
    "As a contrary example, the above `dfa14` is obtained by minimizing `dfa10`, therefore the two DFAs must be equivalent (otherwise the minimization process would be wrong)."
   ]
  },
  {
   "cell_type": "code",
   "execution_count": 53,
   "metadata": {},
   "outputs": [
    {
     "data": {
      "text/plain": [
       "True"
      ]
     },
     "execution_count": 53,
     "metadata": {},
     "output_type": "execute_result"
    }
   ],
   "source": [
    "dfa10.equiv(dfa14)"
   ]
  },
  {
   "cell_type": "markdown",
   "metadata": {},
   "source": [
    "Also the above `dfa11` and `dfa12` differs only by the names of states, so they are equivalent."
   ]
  },
  {
   "cell_type": "code",
   "execution_count": 54,
   "metadata": {},
   "outputs": [
    {
     "data": {
      "text/plain": [
       "True"
      ]
     },
     "execution_count": 54,
     "metadata": {},
     "output_type": "execute_result"
    }
   ],
   "source": [
    "dfa11.equiv(dfa12)"
   ]
  },
  {
   "cell_type": "markdown",
   "metadata": {},
   "source": [
    "### 5.2 Equivalence of Two NFAs\n",
    "The following NFAs `nfa17` and `nfa18` both accepts the same language (01 U 010)\\*. The method `equiv()` we have used to test DFA equivalence can also be used to test NFA equivalence."
   ]
  },
  {
   "cell_type": "code",
   "execution_count": 55,
   "metadata": {},
   "outputs": [],
   "source": [
    "delta17 = {\n",
    "    (0, '0') : {1, 2},\n",
    "    (1, '1') : {0},\n",
    "    (2, '1') : {3},\n",
    "    (3, '0') : {0}\n",
    "}\n",
    "nfa17 = nfa(delta=delta17, start=0, finals={0})"
   ]
  },
  {
   "cell_type": "code",
   "execution_count": 56,
   "metadata": {},
   "outputs": [],
   "source": [
    "delta18 = {\n",
    "    (0, '0') : {1},\n",
    "    (1, '1') : {2},\n",
    "    (2, '0') : {0},\n",
    "    (2, '')  : {0}\n",
    "}\n",
    "nfa18 = nfa(delta=delta18, start=0, finals={0}) "
   ]
  },
  {
   "cell_type": "code",
   "execution_count": 57,
   "metadata": {},
   "outputs": [
    {
     "data": {
      "text/plain": [
       "True"
      ]
     },
     "execution_count": 57,
     "metadata": {},
     "output_type": "execute_result"
    }
   ],
   "source": [
    "nfa17.equiv(nfa18)"
   ]
  },
  {
   "cell_type": "markdown",
   "metadata": {},
   "source": [
    "Of course, `nfa3` we previously created is not equivalent to `nfa17` since they accept different languages."
   ]
  },
  {
   "cell_type": "code",
   "execution_count": 58,
   "metadata": {},
   "outputs": [
    {
     "data": {
      "text/plain": [
       "False"
      ]
     },
     "execution_count": 58,
     "metadata": {},
     "output_type": "execute_result"
    }
   ],
   "source": [
    "nfa3.equiv(nfa17)"
   ]
  },
  {
   "cell_type": "code",
   "execution_count": 59,
   "metadata": {},
   "outputs": [
    {
     "data": {
      "text/plain": [
       "False"
      ]
     },
     "execution_count": 59,
     "metadata": {},
     "output_type": "execute_result"
    }
   ],
   "source": [
    "nfa17.equiv(nfa3)"
   ]
  },
  {
   "cell_type": "markdown",
   "metadata": {},
   "source": [
    "### 5.3 Equivalence between a DFA and an NFA\n",
    "A DFA and an NFA are equivalent if they accept the same language. The method `equiv()` can be used to test the equivalence between a DFA and an NFA in either order since the equivalency is symmetric.\n",
    "\n",
    "The previously created `dfa2` accepts the language (01 U 010)\\*, which is the same language that `nfa17` accepts. Therefore they are equivalent. The following two expressions are equally good for testing their equivalence."
   ]
  },
  {
   "cell_type": "code",
   "execution_count": 60,
   "metadata": {},
   "outputs": [
    {
     "data": {
      "text/plain": [
       "True"
      ]
     },
     "execution_count": 60,
     "metadata": {},
     "output_type": "execute_result"
    }
   ],
   "source": [
    "dfa2.equiv(nfa17)"
   ]
  },
  {
   "cell_type": "code",
   "execution_count": 61,
   "metadata": {},
   "outputs": [
    {
     "data": {
      "text/plain": [
       "True"
      ]
     },
     "execution_count": 61,
     "metadata": {},
     "output_type": "execute_result"
    }
   ],
   "source": [
    "nfa17.equiv(dfa2)"
   ]
  },
  {
   "cell_type": "markdown",
   "metadata": {},
   "source": [
    "To sum up, the same method `equiv()` can be used to test equivalence of any two FAs, either of the same type or of different types."
   ]
  },
  {
   "cell_type": "markdown",
   "metadata": {},
   "source": [
    "## 6. Creating Regular Expressions\n"
   ]
  },
  {
   "cell_type": "markdown",
   "metadata": {},
   "source": [
    "Regular expressions are implemented as `regx` objects. The constructor method `regx()` is used to create a new `regx` object by passing a string that defines a regular expression. There are a number of meta-characters that have special meanings in such regular-expression defining strings, namely\n",
    "\n",
    "      # denoting the empty string,\n",
    "      @ denoting the empty set,\n",
    "      U denoting the Union operator,\n",
    "      * denoting the Kleene star, and\n",
    "      () denoting the parentheses (for grouping).\n",
    "\n",
    "All other characters are taken to be symbols in the alphabet of the language defined by the regular expression. The following instructions create the simplest `regx` objects for the language {a}, {b}, {*empty-string*}, and *the empty set*, and assign them to the variables a, b, e, and m, respectively."
   ]
  },
  {
   "cell_type": "code",
   "execution_count": 62,
   "metadata": {},
   "outputs": [],
   "source": [
    "a = regx('a')  # representing the language {a}"
   ]
  },
  {
   "cell_type": "code",
   "execution_count": 63,
   "metadata": {},
   "outputs": [],
   "source": [
    "b = regx('b')  # representing the language {b}"
   ]
  },
  {
   "cell_type": "code",
   "execution_count": 64,
   "metadata": {},
   "outputs": [],
   "source": [
    "e = regx('#')  # representing the language {empty-string}"
   ]
  },
  {
   "cell_type": "code",
   "execution_count": 65,
   "metadata": {},
   "outputs": [],
   "source": [
    "m = regx('@')  # representing the empty set"
   ]
  },
  {
   "cell_type": "markdown",
   "metadata": {},
   "source": [
    "Each created `regx` object is printable as its defining string."
   ]
  },
  {
   "cell_type": "code",
   "execution_count": 66,
   "metadata": {},
   "outputs": [
    {
     "name": "stdout",
     "output_type": "stream",
     "text": [
      "a\n"
     ]
    }
   ],
   "source": [
    "print(a)"
   ]
  },
  {
   "cell_type": "code",
   "execution_count": 67,
   "metadata": {},
   "outputs": [
    {
     "name": "stdout",
     "output_type": "stream",
     "text": [
      "#\n"
     ]
    }
   ],
   "source": [
    "print(e)"
   ]
  },
  {
   "cell_type": "code",
   "execution_count": 68,
   "metadata": {},
   "outputs": [
    {
     "name": "stdout",
     "output_type": "stream",
     "text": [
      "@\n"
     ]
    }
   ],
   "source": [
    "print(m)"
   ]
  },
  {
   "cell_type": "markdown",
   "metadata": {},
   "source": [
    "More complicated `regx` objects can be created by more complicated defining strings with embedded meta-characters. The following `regx` object defines the language $\\{w \\in \\{a, b, c\\}^*:\\ w\\ does\\ not\\ have\\ ac\\ as\\ a\\ substring\\}$. Note the precedence of the operations, whereby the Kleene star $*$ precedes concatenation and concatenation precedes union."
   ]
  },
  {
   "cell_type": "code",
   "execution_count": 69,
   "metadata": {},
   "outputs": [],
   "source": [
    "r_no_ac = regx('c*(aUbc*)*')"
   ]
  },
  {
   "cell_type": "code",
   "execution_count": 70,
   "metadata": {},
   "outputs": [
    {
     "name": "stdout",
     "output_type": "stream",
     "text": [
      "c*((aUbc*)*)\n"
     ]
    }
   ],
   "source": [
    "print(r_no_ac)"
   ]
  },
  {
   "cell_type": "markdown",
   "metadata": {},
   "source": [
    "It happens that the meta-character @ may almost never be used in practice but it is included only for completeness purpose. However, the meta-character #, denoting the empty string, is indispensable. For example, the following `regx` object defines the language\n",
    "\n",
    "$$\\{w \\in \\{0, 1\\}^*: w\\ does\\ not\\ contain\\ three\\ consecutive\\ 1's\\}$$."
   ]
  },
  {
   "cell_type": "code",
   "execution_count": 71,
   "metadata": {},
   "outputs": [],
   "source": [
    "r_no_111 = regx('(#U1U11)(0U01U011)*')"
   ]
  },
  {
   "cell_type": "markdown",
   "metadata": {},
   "source": [
    "## 7. Testing If a Regular Expression Generates a String"
   ]
  },
  {
   "cell_type": "markdown",
   "metadata": {},
   "source": [
    "A regular expression $r$ defines exactly one regular language $L(r)$. A regular expression $r$ is said to *generate* a string $w$ if $w \\in L(r)$. The method `gen()` can be applied to a `regx` object to test if a string, passed as its argument, is generated by the regular expression. \n",
    "\n",
    "Recall that the regular expression `r_no_ac` above generates strings that does not contain the substring $ac$. The following examples test whether `r_no_ac` can generate the strings $ccabc$ and $cacb$."
   ]
  },
  {
   "cell_type": "code",
   "execution_count": 72,
   "metadata": {},
   "outputs": [
    {
     "data": {
      "text/plain": [
       "True"
      ]
     },
     "execution_count": 72,
     "metadata": {},
     "output_type": "execute_result"
    }
   ],
   "source": [
    "r_no_ac.gen('ccabc')"
   ]
  },
  {
   "cell_type": "code",
   "execution_count": 73,
   "metadata": {},
   "outputs": [
    {
     "data": {
      "text/plain": [
       "False"
      ]
     },
     "execution_count": 73,
     "metadata": {},
     "output_type": "execute_result"
    }
   ],
   "source": [
    "r_no_ac.gen('cacb')"
   ]
  },
  {
   "cell_type": "markdown",
   "metadata": {},
   "source": [
    "The operator `>` may be used instead of the method `gen()` to do the same thing."
   ]
  },
  {
   "cell_type": "code",
   "execution_count": 74,
   "metadata": {},
   "outputs": [
    {
     "data": {
      "text/plain": [
       "True"
      ]
     },
     "execution_count": 74,
     "metadata": {},
     "output_type": "execute_result"
    }
   ],
   "source": [
    "r_no_ac > 'ccabc'"
   ]
  },
  {
   "cell_type": "code",
   "execution_count": 75,
   "metadata": {},
   "outputs": [
    {
     "data": {
      "text/plain": [
       "False"
      ]
     },
     "execution_count": 75,
     "metadata": {},
     "output_type": "execute_result"
    }
   ],
   "source": [
    "r_no_ac > 'cacb'"
   ]
  },
  {
   "cell_type": "markdown",
   "metadata": {},
   "source": [
    "We can also check to see if the regular expression `r_no_ac` can generate the empty string `''`."
   ]
  },
  {
   "cell_type": "code",
   "execution_count": 76,
   "metadata": {},
   "outputs": [
    {
     "data": {
      "text/plain": [
       "True"
      ]
     },
     "execution_count": 76,
     "metadata": {},
     "output_type": "execute_result"
    }
   ],
   "source": [
    "r_no_ac > ''"
   ]
  },
  {
   "cell_type": "markdown",
   "metadata": {},
   "source": [
    "Note the different representions of the empty string in the defining string of a regular expression (`#` on the left-hand side) and the (Python) empty string to be tested (`''` on the right-hand side)."
   ]
  },
  {
   "cell_type": "code",
   "execution_count": 77,
   "metadata": {},
   "outputs": [
    {
     "data": {
      "text/plain": [
       "True"
      ]
     },
     "execution_count": 77,
     "metadata": {},
     "output_type": "execute_result"
    }
   ],
   "source": [
    "regx('#Uab*') > ''"
   ]
  },
  {
   "cell_type": "markdown",
   "metadata": {},
   "source": [
    "## 8. Conversions Between FAs And Regular Expressions"
   ]
  },
  {
   "cell_type": "markdown",
   "metadata": {},
   "source": [
    "### 8.1 From an FA to a Regular Expression\n",
    "The method `to_regx()` can be used to convert an FA, either a DFA or an NFA, to a regular expression. \n",
    "\n",
    "For example, let's use the method `to_regx` to convert the previously created `nfa17` that accepts the language (01 U 010)* to a regular expression that defines the same language."
   ]
  },
  {
   "cell_type": "code",
   "execution_count": 78,
   "metadata": {},
   "outputs": [],
   "source": [
    "r_of_nfa17 = nfa17.to_regx()"
   ]
  },
  {
   "cell_type": "code",
   "execution_count": 79,
   "metadata": {},
   "outputs": [
    {
     "name": "stdout",
     "output_type": "stream",
     "text": [
      "#U0(10)*1U(((0U0(10)*10)1)(((00U00(10)*10)1)*))(0U00(10)*1)\n"
     ]
    }
   ],
   "source": [
    "print(r_of_nfa17)"
   ]
  },
  {
   "cell_type": "code",
   "execution_count": 80,
   "metadata": {},
   "outputs": [
    {
     "data": {
      "text/plain": [
       "True"
      ]
     },
     "execution_count": 80,
     "metadata": {},
     "output_type": "execute_result"
    }
   ],
   "source": [
    "nfa17.accept('01010')"
   ]
  },
  {
   "cell_type": "code",
   "execution_count": 81,
   "metadata": {},
   "outputs": [
    {
     "data": {
      "text/plain": [
       "True"
      ]
     },
     "execution_count": 81,
     "metadata": {},
     "output_type": "execute_result"
    }
   ],
   "source": [
    "r_of_nfa17 > '01010'"
   ]
  },
  {
   "cell_type": "code",
   "execution_count": 82,
   "metadata": {},
   "outputs": [
    {
     "data": {
      "text/plain": [
       "False"
      ]
     },
     "execution_count": 82,
     "metadata": {},
     "output_type": "execute_result"
    }
   ],
   "source": [
    "nfa17.accept('011')"
   ]
  },
  {
   "cell_type": "code",
   "execution_count": 83,
   "metadata": {},
   "outputs": [
    {
     "data": {
      "text/plain": [
       "False"
      ]
     },
     "execution_count": 83,
     "metadata": {},
     "output_type": "execute_result"
    }
   ],
   "source": [
    "r_of_nfa17 > '011'"
   ]
  },
  {
   "cell_type": "markdown",
   "metadata": {},
   "source": [
    "The method `to_regx()` can also be used to convert a DFA to a regular expression. For example, the previously created `dfa15` is a DFA that accepts $\\{w \\in \\{a, b\\}:\\ w\\ ends\\ with\\ ba\\}$. We can convert this DFA to a regular expression that defines the same language."
   ]
  },
  {
   "cell_type": "code",
   "execution_count": 84,
   "metadata": {},
   "outputs": [],
   "source": [
    "r_of_dfa15 = dfa15.to_regx()"
   ]
  },
  {
   "cell_type": "code",
   "execution_count": 85,
   "metadata": {},
   "outputs": [
    {
     "name": "stdout",
     "output_type": "stream",
     "text": [
      "a*bb*a((((bUaa*b)b*)a)*)\n"
     ]
    }
   ],
   "source": [
    "print(r_of_dfa15)"
   ]
  },
  {
   "cell_type": "code",
   "execution_count": 86,
   "metadata": {},
   "outputs": [
    {
     "data": {
      "text/plain": [
       "True"
      ]
     },
     "execution_count": 86,
     "metadata": {},
     "output_type": "execute_result"
    }
   ],
   "source": [
    "dfa15.accept('aaba')"
   ]
  },
  {
   "cell_type": "code",
   "execution_count": 87,
   "metadata": {},
   "outputs": [
    {
     "data": {
      "text/plain": [
       "True"
      ]
     },
     "execution_count": 87,
     "metadata": {},
     "output_type": "execute_result"
    }
   ],
   "source": [
    "r_of_dfa15 > 'aaba'"
   ]
  },
  {
   "cell_type": "code",
   "execution_count": 88,
   "metadata": {},
   "outputs": [
    {
     "data": {
      "text/plain": [
       "False"
      ]
     },
     "execution_count": 88,
     "metadata": {},
     "output_type": "execute_result"
    }
   ],
   "source": [
    "dfa15.accept('baa')"
   ]
  },
  {
   "cell_type": "code",
   "execution_count": 89,
   "metadata": {},
   "outputs": [
    {
     "data": {
      "text/plain": [
       "False"
      ]
     },
     "execution_count": 89,
     "metadata": {},
     "output_type": "execute_result"
    }
   ],
   "source": [
    "r_of_dfa15 > 'baa'"
   ]
  },
  {
   "cell_type": "markdown",
   "metadata": {},
   "source": [
    "### 8.2 From a Regular Expression to an FA\n",
    "The method `to_nfa()` can be used to convert a regular expression to an NFA. Let's use it to convert the regx object `r_no_ac` to an NFA that accepts the language that `r_no_ac` defines."
   ]
  },
  {
   "cell_type": "code",
   "execution_count": 90,
   "metadata": {},
   "outputs": [
    {
     "name": "stdout",
     "output_type": "stream",
     "text": [
      "c*((aUbc*)*)\n"
     ]
    }
   ],
   "source": [
    "print(r_no_ac)"
   ]
  },
  {
   "cell_type": "code",
   "execution_count": 91,
   "metadata": {},
   "outputs": [],
   "source": [
    "nfa_no_ac = r_no_ac.to_nfa()"
   ]
  },
  {
   "cell_type": "code",
   "execution_count": 92,
   "metadata": {},
   "outputs": [
    {
     "name": "stdout",
     "output_type": "stream",
     "text": [
      "states = {1, 10, 11, 12, 13, 15, 2, 3, 4, 5, 6, 7, 8, 9}\n",
      "sigma = {'a', 'b', 'c'}\n",
      "start = 3\n",
      "finals = {15}\n",
      "delta = {\n",
      "    (1, 'c') : {2}\n",
      "    (10, '') : {9, 11}\n",
      "    (11, '') : {13}\n",
      "    (12, '') : {5, 7}\n",
      "    (13, '') : {12, 15}\n",
      "    (2, '') : {1, 4}\n",
      "    (3, '') : {1, 4}\n",
      "    (4, '') : {12, 15}\n",
      "    (5, 'a') : {6}\n",
      "    (6, '') : {13}\n",
      "    (7, 'b') : {8}\n",
      "    (8, '') : {9, 11}\n",
      "    (9, 'c') : {10}\n",
      "}\n"
     ]
    }
   ],
   "source": [
    "print(nfa_no_ac)"
   ]
  },
  {
   "cell_type": "code",
   "execution_count": 93,
   "metadata": {},
   "outputs": [
    {
     "data": {
      "text/plain": [
       "True"
      ]
     },
     "execution_count": 93,
     "metadata": {},
     "output_type": "execute_result"
    }
   ],
   "source": [
    "r_no_ac > 'cabc'"
   ]
  },
  {
   "cell_type": "code",
   "execution_count": 94,
   "metadata": {},
   "outputs": [
    {
     "data": {
      "text/plain": [
       "True"
      ]
     },
     "execution_count": 94,
     "metadata": {},
     "output_type": "execute_result"
    }
   ],
   "source": [
    "nfa_no_ac.accept('cabc')"
   ]
  },
  {
   "cell_type": "code",
   "execution_count": 95,
   "metadata": {},
   "outputs": [
    {
     "data": {
      "text/plain": [
       "False"
      ]
     },
     "execution_count": 95,
     "metadata": {},
     "output_type": "execute_result"
    }
   ],
   "source": [
    "r_no_ac > 'bac'"
   ]
  },
  {
   "cell_type": "code",
   "execution_count": 96,
   "metadata": {},
   "outputs": [
    {
     "data": {
      "text/plain": [
       "False"
      ]
     },
     "execution_count": 96,
     "metadata": {},
     "output_type": "execute_result"
    }
   ],
   "source": [
    "nfa_no_ac.accept('bac')"
   ]
  },
  {
   "cell_type": "markdown",
   "metadata": {},
   "source": [
    "We also have the method `to_dfa()` that converts a regular expression to a DFA. The resulting DFA is automatically minimized and nicely made standard-numbered. (Yes, it calls the `dfa` method `standard_numbered()` to do it). "
   ]
  },
  {
   "cell_type": "code",
   "execution_count": 97,
   "metadata": {},
   "outputs": [],
   "source": [
    "dfa_no_ac = r_no_ac.to_dfa()"
   ]
  },
  {
   "cell_type": "code",
   "execution_count": 98,
   "metadata": {},
   "outputs": [
    {
     "name": "stdout",
     "output_type": "stream",
     "text": [
      "states = {1, 2, 3}\n",
      "sigma = {'a', 'b', 'c'}\n",
      "start = 1\n",
      "finals = {1, 2}\n",
      "delta = {\n",
      "    (1, 'a') : 2\n",
      "    (1, 'b') : 1\n",
      "    (1, 'c') : 1\n",
      "    (2, 'a') : 2\n",
      "    (2, 'b') : 1\n",
      "    (2, 'c') : 3\n",
      "    (3, 'a') : 3\n",
      "    (3, 'b') : 3\n",
      "    (3, 'c') : 3\n",
      "}\n"
     ]
    }
   ],
   "source": [
    "print(dfa_no_ac)"
   ]
  },
  {
   "cell_type": "code",
   "execution_count": 99,
   "metadata": {},
   "outputs": [
    {
     "data": {
      "text/plain": [
       "True"
      ]
     },
     "execution_count": 99,
     "metadata": {},
     "output_type": "execute_result"
    }
   ],
   "source": [
    "dfa_no_ac.accept('cabc')"
   ]
  },
  {
   "cell_type": "code",
   "execution_count": 100,
   "metadata": {},
   "outputs": [
    {
     "data": {
      "text/plain": [
       "False"
      ]
     },
     "execution_count": 100,
     "metadata": {},
     "output_type": "execute_result"
    }
   ],
   "source": [
    "dfa_no_ac.accept('bac')"
   ]
  },
  {
   "cell_type": "markdown",
   "metadata": {},
   "source": [
    "## 9. Test For Equivalence of Two Regular Expressions"
   ]
  },
  {
   "cell_type": "markdown",
   "metadata": {},
   "source": [
    "The `regx` method `equiv()` can be used to test if two regular expressions are equivalent, meaning that they define the same regular language.\n",
    "\n",
    "For example, the regular expressions (0U1)\\* and 0\\*(10\\*)\\* are equivalent as they define the same language {0, 1}*."
   ]
  },
  {
   "cell_type": "code",
   "execution_count": 101,
   "metadata": {},
   "outputs": [],
   "source": [
    "r91 = regx('(0U1)*')"
   ]
  },
  {
   "cell_type": "code",
   "execution_count": 102,
   "metadata": {},
   "outputs": [],
   "source": [
    "r92 = regx('0*(10*)*')"
   ]
  },
  {
   "cell_type": "code",
   "execution_count": 103,
   "metadata": {},
   "outputs": [
    {
     "data": {
      "text/plain": [
       "True"
      ]
     },
     "execution_count": 103,
     "metadata": {},
     "output_type": "execute_result"
    }
   ],
   "source": [
    "r91.equiv(r92)"
   ]
  },
  {
   "cell_type": "code",
   "execution_count": 104,
   "metadata": {},
   "outputs": [
    {
     "data": {
      "text/plain": [
       "False"
      ]
     },
     "execution_count": 104,
     "metadata": {},
     "output_type": "execute_result"
    }
   ],
   "source": [
    "r91.equiv(regx('(0U1)*1'))"
   ]
  },
  {
   "cell_type": "markdown",
   "metadata": {},
   "source": [
    "The operator `==` can also be used instead of `equiv()` to mean the same thing."
   ]
  },
  {
   "cell_type": "code",
   "execution_count": 105,
   "metadata": {},
   "outputs": [
    {
     "data": {
      "text/plain": [
       "True"
      ]
     },
     "execution_count": 105,
     "metadata": {},
     "output_type": "execute_result"
    }
   ],
   "source": [
    "r91 == r92"
   ]
  },
  {
   "cell_type": "code",
   "execution_count": 106,
   "metadata": {},
   "outputs": [
    {
     "data": {
      "text/plain": [
       "False"
      ]
     },
     "execution_count": 106,
     "metadata": {},
     "output_type": "execute_result"
    }
   ],
   "source": [
    "r91 == regx('(0U1)*1')"
   ]
  },
  {
   "cell_type": "markdown",
   "metadata": {},
   "source": [
    "## 10. Operations on Regular Expressions"
   ]
  },
  {
   "cell_type": "markdown",
   "metadata": {},
   "source": [
    "### 10.1 Union\n",
    "If `regx` objects `r1` and `r2` represent regular expressions that define the languages $L_1$ and $L_2$, respectively, then the expression `r1 | r2` produces a new `regx` object that defines the language $L_1 \\cup L_2$. For example, the following two `regx` objects `r101` and `r102` define the same language, thus are equivalent."
   ]
  },
  {
   "cell_type": "code",
   "execution_count": 107,
   "metadata": {},
   "outputs": [],
   "source": [
    "r101 = regx('a') | regx('b')"
   ]
  },
  {
   "cell_type": "code",
   "execution_count": 108,
   "metadata": {},
   "outputs": [],
   "source": [
    "r102 = regx('aUb')"
   ]
  },
  {
   "cell_type": "code",
   "execution_count": 109,
   "metadata": {},
   "outputs": [
    {
     "data": {
      "text/plain": [
       "True"
      ]
     },
     "execution_count": 109,
     "metadata": {},
     "output_type": "execute_result"
    }
   ],
   "source": [
    "r101 == r102"
   ]
  },
  {
   "cell_type": "markdown",
   "metadata": {},
   "source": [
    "The following `regx` object defines the language $\\{w \\in \\{a,b\\}^*:\\ w\\ ends\\ with\\ aa\\}$."
   ]
  },
  {
   "cell_type": "code",
   "execution_count": 110,
   "metadata": {},
   "outputs": [],
   "source": [
    "r103 = regx('(aUb)*aa')"
   ]
  },
  {
   "cell_type": "markdown",
   "metadata": {},
   "source": [
    "The following `regx` object defines the language $\\{w \\in \\{a,b\\}^*:\\ w\\ ends\\ with\\ bb\\}$."
   ]
  },
  {
   "cell_type": "code",
   "execution_count": 111,
   "metadata": {},
   "outputs": [],
   "source": [
    "r104 = regx('(aUb)*bb')"
   ]
  },
  {
   "cell_type": "markdown",
   "metadata": {},
   "source": [
    "Thus the following `regx` object `r105` defines the union of the above two languages, which is the set of all strings that ends with either aa or bb."
   ]
  },
  {
   "cell_type": "code",
   "execution_count": 112,
   "metadata": {},
   "outputs": [],
   "source": [
    "r105 = r103 | r104"
   ]
  },
  {
   "cell_type": "code",
   "execution_count": 113,
   "metadata": {},
   "outputs": [
    {
     "name": "stdout",
     "output_type": "stream",
     "text": [
      "(((aUb)*)a)aU(((aUb)*)b)b\n"
     ]
    }
   ],
   "source": [
    "print(r105)"
   ]
  },
  {
   "cell_type": "code",
   "execution_count": 114,
   "metadata": {},
   "outputs": [
    {
     "data": {
      "text/plain": [
       "True"
      ]
     },
     "execution_count": 114,
     "metadata": {},
     "output_type": "execute_result"
    }
   ],
   "source": [
    "r105 > 'baa'"
   ]
  },
  {
   "cell_type": "code",
   "execution_count": 115,
   "metadata": {},
   "outputs": [
    {
     "data": {
      "text/plain": [
       "True"
      ]
     },
     "execution_count": 115,
     "metadata": {},
     "output_type": "execute_result"
    }
   ],
   "source": [
    "r105 > 'bbb'"
   ]
  },
  {
   "cell_type": "code",
   "execution_count": 116,
   "metadata": {},
   "outputs": [
    {
     "data": {
      "text/plain": [
       "False"
      ]
     },
     "execution_count": 116,
     "metadata": {},
     "output_type": "execute_result"
    }
   ],
   "source": [
    "r105 > 'aaba'"
   ]
  },
  {
   "cell_type": "markdown",
   "metadata": {},
   "source": [
    "### 10.2 Concatenation\n",
    "If `regx` objects `r1` and `r2` represent regular expressions that define the languages $L_1$ and $L_2$, respectively, then the expression `r1 & r2` produces a new `regx` object that defines the concatenation of $L_1$ and $L_2$, denoted $L_1 L_2$. For example, the following two `regx` objects `r106` and `r107` define the same language, thus are equivalent."
   ]
  },
  {
   "cell_type": "code",
   "execution_count": 117,
   "metadata": {},
   "outputs": [],
   "source": [
    "r106 = regx('a') & regx('b')"
   ]
  },
  {
   "cell_type": "code",
   "execution_count": 118,
   "metadata": {},
   "outputs": [],
   "source": [
    "r107 = regx('ab')"
   ]
  },
  {
   "cell_type": "code",
   "execution_count": 119,
   "metadata": {},
   "outputs": [
    {
     "data": {
      "text/plain": [
       "True"
      ]
     },
     "execution_count": 119,
     "metadata": {},
     "output_type": "execute_result"
    }
   ],
   "source": [
    "r106 == r107"
   ]
  },
  {
   "cell_type": "markdown",
   "metadata": {},
   "source": [
    "The following `regx` object defines the language $\\{a,b\\}^*$."
   ]
  },
  {
   "cell_type": "code",
   "execution_count": 120,
   "metadata": {},
   "outputs": [],
   "source": [
    "r108 = regx('(aUb)*')"
   ]
  },
  {
   "cell_type": "markdown",
   "metadata": {},
   "source": [
    "The following `regx` object defines the language $\\{ab\\}$."
   ]
  },
  {
   "cell_type": "code",
   "execution_count": 121,
   "metadata": {},
   "outputs": [],
   "source": [
    "r109 = regx('ab')"
   ]
  },
  {
   "cell_type": "markdown",
   "metadata": {},
   "source": [
    "Thus the following `regx` object `r1010` defines the concatenation of the above two language, which is the set of all strings that ends with $ab$."
   ]
  },
  {
   "cell_type": "code",
   "execution_count": 122,
   "metadata": {},
   "outputs": [],
   "source": [
    "r1010 = r108 & r109"
   ]
  },
  {
   "cell_type": "code",
   "execution_count": 123,
   "metadata": {},
   "outputs": [
    {
     "name": "stdout",
     "output_type": "stream",
     "text": [
      "((aUb)*)ab\n"
     ]
    }
   ],
   "source": [
    "print(r1010)"
   ]
  },
  {
   "cell_type": "code",
   "execution_count": 124,
   "metadata": {},
   "outputs": [
    {
     "data": {
      "text/plain": [
       "True"
      ]
     },
     "execution_count": 124,
     "metadata": {},
     "output_type": "execute_result"
    }
   ],
   "source": [
    "r1010 > 'bbab'"
   ]
  },
  {
   "cell_type": "code",
   "execution_count": 125,
   "metadata": {},
   "outputs": [
    {
     "data": {
      "text/plain": [
       "False"
      ]
     },
     "execution_count": 125,
     "metadata": {},
     "output_type": "execute_result"
    }
   ],
   "source": [
    "r1010 > 'bbb'"
   ]
  },
  {
   "cell_type": "markdown",
   "metadata": {},
   "source": [
    "The following `r1011` defined more directly is certainly equivalent to `r1010`."
   ]
  },
  {
   "cell_type": "code",
   "execution_count": 126,
   "metadata": {},
   "outputs": [],
   "source": [
    "r1011 = regx('(aUb)*ab')"
   ]
  },
  {
   "cell_type": "code",
   "execution_count": 127,
   "metadata": {},
   "outputs": [
    {
     "name": "stdout",
     "output_type": "stream",
     "text": [
      "(((aUb)*)a)b\n"
     ]
    }
   ],
   "source": [
    "print(r1011)"
   ]
  },
  {
   "cell_type": "code",
   "execution_count": 128,
   "metadata": {},
   "outputs": [
    {
     "data": {
      "text/plain": [
       "True"
      ]
     },
     "execution_count": 128,
     "metadata": {},
     "output_type": "execute_result"
    }
   ],
   "source": [
    "r1010 == r1011"
   ]
  },
  {
   "cell_type": "markdown",
   "metadata": {},
   "source": [
    "### 10.3 Kleene Star"
   ]
  },
  {
   "cell_type": "markdown",
   "metadata": {},
   "source": [
    "If a `regx` object `r1` defines a language $L_1$, then the expression `r1.star()` returns a new `regx` object that defines the language $L_1^*$.\n",
    "\n",
    "For example, the following `regx` object `r1012` defines the language $\\{01, 010\\}$."
   ]
  },
  {
   "cell_type": "code",
   "execution_count": 129,
   "metadata": {},
   "outputs": [],
   "source": [
    "r1012 = regx('01 U 010')"
   ]
  },
  {
   "cell_type": "markdown",
   "metadata": {},
   "source": [
    "Then `r1012.star()` returns a new `regx` object that defines the language $\\{01, 010\\}^*$, thus can as well be defined by the regular expression $(01 \\cup 010)^*$."
   ]
  },
  {
   "cell_type": "code",
   "execution_count": 130,
   "metadata": {},
   "outputs": [],
   "source": [
    "r1013 = r1012.star()"
   ]
  },
  {
   "cell_type": "code",
   "execution_count": 131,
   "metadata": {},
   "outputs": [
    {
     "name": "stdout",
     "output_type": "stream",
     "text": [
      "(01U010)*\n"
     ]
    }
   ],
   "source": [
    "print(r1013)"
   ]
  },
  {
   "cell_type": "code",
   "execution_count": 132,
   "metadata": {},
   "outputs": [
    {
     "data": {
      "text/plain": [
       "True"
      ]
     },
     "execution_count": 132,
     "metadata": {},
     "output_type": "execute_result"
    }
   ],
   "source": [
    "r1013 == regx('(01 U 010)*')"
   ]
  },
  {
   "cell_type": "markdown",
   "metadata": {},
   "source": [
    "Since the priviously created `nfa` object `nfa17` accepts this same language, the regular expression obtained by conversion from this NFA must also be equivalent to `r1013`."
   ]
  },
  {
   "cell_type": "code",
   "execution_count": 133,
   "metadata": {},
   "outputs": [
    {
     "data": {
      "text/plain": [
       "True"
      ]
     },
     "execution_count": 133,
     "metadata": {},
     "output_type": "execute_result"
    }
   ],
   "source": [
    "nfa17.to_regx() == r1013"
   ]
  },
  {
   "cell_type": "markdown",
   "metadata": {},
   "source": [
    "### 10.4 Operator Precedence"
   ]
  },
  {
   "cell_type": "markdown",
   "metadata": {},
   "source": [
    "The `regx` operators `|`, `&`, and `.star()` corresponds to the language operations union, concatenation, and Kleene star, respectively. By convention, Kleene star precedes concatenation, while concatenation precedes union. Parentheses override the precedence. \n",
    "\n",
    "All the three `regx` operators faithfully follow this convention. For example, if `r`, `s`, and `t` are `regx` objects that define the language $L_r$, $L_s$, and $L_t$, respectively, then the expression `r&s.star()|t` produces a `regx` object that defines the language $L_r L_s^* \\cup L_t$, which means the same as $((L_r (L_s^*)) \\cup L_t)$.\n",
    "\n",
    "As an illustration, the following example shows two equivalent ways of constructing a `regx` object that represents the regular expression $c^*(a \\cup bc^*)^*$."
   ]
  },
  {
   "cell_type": "code",
   "execution_count": 134,
   "metadata": {},
   "outputs": [],
   "source": [
    "r1014 = regx('c*(aUbc*)*')  # directly created from a defining string"
   ]
  },
  {
   "cell_type": "code",
   "execution_count": 135,
   "metadata": {},
   "outputs": [],
   "source": [
    "a = regx('a')"
   ]
  },
  {
   "cell_type": "code",
   "execution_count": 136,
   "metadata": {},
   "outputs": [],
   "source": [
    "b = regx('b')"
   ]
  },
  {
   "cell_type": "code",
   "execution_count": 137,
   "metadata": {},
   "outputs": [],
   "source": [
    "c = regx('c')"
   ]
  },
  {
   "cell_type": "code",
   "execution_count": 138,
   "metadata": {},
   "outputs": [],
   "source": [
    "r1015 = c.star() & (a|b&c.star()).star() # indirectly created from smaller regx objects"
   ]
  },
  {
   "cell_type": "code",
   "execution_count": 139,
   "metadata": {},
   "outputs": [
    {
     "data": {
      "text/plain": [
       "True"
      ]
     },
     "execution_count": 139,
     "metadata": {},
     "output_type": "execute_result"
    }
   ],
   "source": [
    "r1014 == r1015   # Are they equivalent?"
   ]
  },
  {
   "cell_type": "markdown",
   "metadata": {},
   "source": [
    "Yes, they are indeed equivalent. "
   ]
  },
  {
   "cell_type": "code",
   "execution_count": null,
   "metadata": {},
   "outputs": [],
   "source": []
  }
 ],
 "metadata": {
  "kernelspec": {
   "display_name": "Python 3",
   "language": "python",
   "name": "python3"
  },
  "language_info": {
   "codemirror_mode": {
    "name": "ipython",
    "version": 3
   },
   "file_extension": ".py",
   "mimetype": "text/x-python",
   "name": "python",
   "nbconvert_exporter": "python",
   "pygments_lexer": "ipython3",
   "version": "3.7.9"
  }
 },
 "nbformat": 4,
 "nbformat_minor": 4
}
